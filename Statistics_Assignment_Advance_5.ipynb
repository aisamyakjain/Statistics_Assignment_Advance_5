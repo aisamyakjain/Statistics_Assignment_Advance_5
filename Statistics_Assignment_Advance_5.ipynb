{
 "cells": [
  {
   "cell_type": "code",
   "execution_count": 2,
   "id": "043c837a-d030-43ea-a025-85e5672370f0",
   "metadata": {},
   "outputs": [
    {
     "name": "stdout",
     "output_type": "stream",
     "text": [
      "The 95% confidence interval is: (48.1329693162095, 51.8670306837905)\n"
     ]
    }
   ],
   "source": [
    "# Q1. Calculate the 95% confidence interval for a sample of data with a mean of 50 and a standard deviation \n",
    "# of 5 using Python. Interpret the results\n",
    "\n",
    "import scipy.stats as stats\n",
    "import math\n",
    "\n",
    "sample_mean = 50\n",
    "sample_std_dev = 5\n",
    "sample_size = 30  # Assuming a sample size of 30\n",
    "\n",
    "confidence_level = 0.95\n",
    "degrees_of_freedom = sample_size - 1\n",
    "\n",
    "# Calculate the t-score corresponding to the desired confidence level and degrees of freedom\n",
    "t_score = stats.t.ppf((1 + confidence_level) / 2, df=degrees_of_freedom)\n",
    "\n",
    "# Calculate the margin of error\n",
    "margin_of_error = t_score * (sample_std_dev / math.sqrt(sample_size))\n",
    "\n",
    "# Calculate the confidence interval\n",
    "confidence_interval = (sample_mean - margin_of_error, sample_mean + margin_of_error)\n",
    "\n",
    "print(\"The 95% confidence interval is:\", confidence_interval)\n"
   ]
  },
  {
   "cell_type": "code",
   "execution_count": 3,
   "id": "b9ca6834-9ec7-4386-9cff-72e405ff12d1",
   "metadata": {},
   "outputs": [
    {
     "ename": "ValueError",
     "evalue": "For each axis slice, the sum of the observed frequencies must agree with the sum of the expected frequencies to a relative tolerance of 1e-08, but the percent differences are:\n17.749999999999996",
     "output_type": "error",
     "traceback": [
      "\u001b[0;31m---------------------------------------------------------------------------\u001b[0m",
      "\u001b[0;31mValueError\u001b[0m                                Traceback (most recent call last)",
      "Cell \u001b[0;32mIn[3], line 12\u001b[0m\n\u001b[1;32m      9\u001b[0m expected_counts \u001b[38;5;241m=\u001b[39m [\u001b[38;5;241m0.2\u001b[39m\u001b[38;5;241m*\u001b[39m\u001b[38;5;28mlen\u001b[39m(observed_counts)] \u001b[38;5;241m*\u001b[39m \u001b[38;5;28mlen\u001b[39m(observed_counts)  \u001b[38;5;66;03m# Expected counts based on the expected distribution\u001b[39;00m\n\u001b[1;32m     11\u001b[0m \u001b[38;5;66;03m# Perform the chi-square goodness of fit test\u001b[39;00m\n\u001b[0;32m---> 12\u001b[0m chi2_statistic, p_value \u001b[38;5;241m=\u001b[39m \u001b[43mstats\u001b[49m\u001b[38;5;241;43m.\u001b[39;49m\u001b[43mchisquare\u001b[49m\u001b[43m(\u001b[49m\u001b[43mf_obs\u001b[49m\u001b[38;5;241;43m=\u001b[39;49m\u001b[43mobserved_counts\u001b[49m\u001b[43m,\u001b[49m\u001b[43m \u001b[49m\u001b[43mf_exp\u001b[49m\u001b[38;5;241;43m=\u001b[39;49m\u001b[43mexpected_counts\u001b[49m\u001b[43m)\u001b[49m\n\u001b[1;32m     14\u001b[0m \u001b[38;5;66;03m# Determine if the null hypothesis is rejected based on the p-value\u001b[39;00m\n\u001b[1;32m     15\u001b[0m significance_level \u001b[38;5;241m=\u001b[39m \u001b[38;5;241m0.05\u001b[39m\n",
      "File \u001b[0;32m/opt/conda/lib/python3.10/site-packages/scipy/stats/_stats_py.py:7311\u001b[0m, in \u001b[0;36mchisquare\u001b[0;34m(f_obs, f_exp, ddof, axis)\u001b[0m\n\u001b[1;32m   7187\u001b[0m \u001b[38;5;28;01mdef\u001b[39;00m \u001b[38;5;21mchisquare\u001b[39m(f_obs, f_exp\u001b[38;5;241m=\u001b[39m\u001b[38;5;28;01mNone\u001b[39;00m, ddof\u001b[38;5;241m=\u001b[39m\u001b[38;5;241m0\u001b[39m, axis\u001b[38;5;241m=\u001b[39m\u001b[38;5;241m0\u001b[39m):\n\u001b[1;32m   7188\u001b[0m     \u001b[38;5;124;03m\"\"\"Calculate a one-way chi-square test.\u001b[39;00m\n\u001b[1;32m   7189\u001b[0m \n\u001b[1;32m   7190\u001b[0m \u001b[38;5;124;03m    The chi-square test tests the null hypothesis that the categorical data\u001b[39;00m\n\u001b[0;32m   (...)\u001b[0m\n\u001b[1;32m   7309\u001b[0m \n\u001b[1;32m   7310\u001b[0m \u001b[38;5;124;03m    \"\"\"\u001b[39;00m\n\u001b[0;32m-> 7311\u001b[0m     \u001b[38;5;28;01mreturn\u001b[39;00m \u001b[43mpower_divergence\u001b[49m\u001b[43m(\u001b[49m\u001b[43mf_obs\u001b[49m\u001b[43m,\u001b[49m\u001b[43m \u001b[49m\u001b[43mf_exp\u001b[49m\u001b[38;5;241;43m=\u001b[39;49m\u001b[43mf_exp\u001b[49m\u001b[43m,\u001b[49m\u001b[43m \u001b[49m\u001b[43mddof\u001b[49m\u001b[38;5;241;43m=\u001b[39;49m\u001b[43mddof\u001b[49m\u001b[43m,\u001b[49m\u001b[43m \u001b[49m\u001b[43maxis\u001b[49m\u001b[38;5;241;43m=\u001b[39;49m\u001b[43maxis\u001b[49m\u001b[43m,\u001b[49m\n\u001b[1;32m   7312\u001b[0m \u001b[43m                            \u001b[49m\u001b[43mlambda_\u001b[49m\u001b[38;5;241;43m=\u001b[39;49m\u001b[38;5;124;43m\"\u001b[39;49m\u001b[38;5;124;43mpearson\u001b[39;49m\u001b[38;5;124;43m\"\u001b[39;49m\u001b[43m)\u001b[49m\n",
      "File \u001b[0;32m/opt/conda/lib/python3.10/site-packages/scipy/stats/_stats_py.py:7153\u001b[0m, in \u001b[0;36mpower_divergence\u001b[0;34m(f_obs, f_exp, ddof, axis, lambda_)\u001b[0m\n\u001b[1;32m   7147\u001b[0m     \u001b[38;5;28;01mif\u001b[39;00m diff_gt_tol:\n\u001b[1;32m   7148\u001b[0m         msg \u001b[38;5;241m=\u001b[39m (\u001b[38;5;124mf\u001b[39m\u001b[38;5;124m\"\u001b[39m\u001b[38;5;124mFor each axis slice, the sum of the observed \u001b[39m\u001b[38;5;124m\"\u001b[39m\n\u001b[1;32m   7149\u001b[0m                \u001b[38;5;124mf\u001b[39m\u001b[38;5;124m\"\u001b[39m\u001b[38;5;124mfrequencies must agree with the sum of the \u001b[39m\u001b[38;5;124m\"\u001b[39m\n\u001b[1;32m   7150\u001b[0m                \u001b[38;5;124mf\u001b[39m\u001b[38;5;124m\"\u001b[39m\u001b[38;5;124mexpected frequencies to a relative tolerance \u001b[39m\u001b[38;5;124m\"\u001b[39m\n\u001b[1;32m   7151\u001b[0m                \u001b[38;5;124mf\u001b[39m\u001b[38;5;124m\"\u001b[39m\u001b[38;5;124mof \u001b[39m\u001b[38;5;132;01m{\u001b[39;00mrtol\u001b[38;5;132;01m}\u001b[39;00m\u001b[38;5;124m, but the percent differences are:\u001b[39m\u001b[38;5;130;01m\\n\u001b[39;00m\u001b[38;5;124m\"\u001b[39m\n\u001b[1;32m   7152\u001b[0m                \u001b[38;5;124mf\u001b[39m\u001b[38;5;124m\"\u001b[39m\u001b[38;5;132;01m{\u001b[39;00mrelative_diff\u001b[38;5;132;01m}\u001b[39;00m\u001b[38;5;124m\"\u001b[39m)\n\u001b[0;32m-> 7153\u001b[0m         \u001b[38;5;28;01mraise\u001b[39;00m \u001b[38;5;167;01mValueError\u001b[39;00m(msg)\n\u001b[1;32m   7155\u001b[0m \u001b[38;5;28;01melse\u001b[39;00m:\n\u001b[1;32m   7156\u001b[0m     \u001b[38;5;66;03m# Ignore 'invalid' errors so the edge case of a data set with length 0\u001b[39;00m\n\u001b[1;32m   7157\u001b[0m     \u001b[38;5;66;03m# is handled without spurious warnings.\u001b[39;00m\n\u001b[1;32m   7158\u001b[0m     \u001b[38;5;28;01mwith\u001b[39;00m np\u001b[38;5;241m.\u001b[39merrstate(invalid\u001b[38;5;241m=\u001b[39m\u001b[38;5;124m'\u001b[39m\u001b[38;5;124mignore\u001b[39m\u001b[38;5;124m'\u001b[39m):\n",
      "\u001b[0;31mValueError\u001b[0m: For each axis slice, the sum of the observed frequencies must agree with the sum of the expected frequencies to a relative tolerance of 1e-08, but the percent differences are:\n17.749999999999996"
     ]
    }
   ],
   "source": [
    "# Q2. Conduct a chi-square goodness of fit test to determine if the distribution of colors of M&Ms in a bag \n",
    "# matches the expected distribution of 20% blue, 20% orange, 20% green, 10% yellow, 10% red, and 20% \n",
    "# brown. Use Python to perform the test with a significance level of 0.05\n",
    "\n",
    "import scipy.stats as stats\n",
    "import numpy as np\n",
    "\n",
    "observed_counts = [30, 25, 20, 15, 15, 30]  # Observed counts for each color in the bag\n",
    "expected_counts = [0.2*len(observed_counts)] * len(observed_counts)  # Expected counts based on the expected distribution\n",
    "\n",
    "# Perform the chi-square goodness of fit test\n",
    "chi2_statistic, p_value = stats.chisquare(f_obs=observed_counts, f_exp=expected_counts)\n",
    "\n",
    "# Determine if the null hypothesis is rejected based on the p-value\n",
    "significance_level = 0.05\n",
    "if p_value < significance_level:\n",
    "    print(\"The distribution of colors in the M&M bag does not match the expected distribution.\")\n",
    "else:\n",
    "    print(\"The distribution of colors in the M&M bag matches the expected distribution.\")\n"
   ]
  },
  {
   "cell_type": "code",
   "execution_count": 1,
   "id": "2b24a851-a88c-4305-a9f8-5925aecb60c6",
   "metadata": {},
   "outputs": [
    {
     "name": "stdout",
     "output_type": "stream",
     "text": [
      "Chi-square statistic: 5.833333333333334\n",
      "P-value: 0.05411376622282158\n",
      "There is no evidence of an association between the groups and outcomes.\n"
     ]
    }
   ],
   "source": [
    "# Q3. Use Python to calculate the chi-square statistic and p-value for a contingency table with the following \n",
    "# data:\n",
    "# Interpret the results of the test.\n",
    "\n",
    "# Group A\n",
    "# Outcome 1 20 15\n",
    "# Outcome 2 10 25\n",
    "# Outcome 3 15 20\n",
    "\n",
    "import scipy.stats as stats\n",
    "import numpy as np\n",
    "\n",
    "observed_data = np.array([[20, 15], [10, 25], [15, 20]])  # Observed data in the contingency table\n",
    "\n",
    "# Perform the chi-square test for independence\n",
    "chi2_statistic, p_value, _, _ = stats.chi2_contingency(observed_data)\n",
    "\n",
    "# Print the chi-square statistic and p-value\n",
    "print(\"Chi-square statistic:\", chi2_statistic)\n",
    "print(\"P-value:\", p_value)\n",
    "\n",
    "# Interpret the results\n",
    "significance_level = 0.05\n",
    "if p_value < significance_level:\n",
    "    print(\"There is evidence of an association between the groups and outcomes.\")\n",
    "else:\n",
    "    print(\"There is no evidence of an association between the groups and outcomes.\")\n"
   ]
  },
  {
   "cell_type": "code",
   "execution_count": 2,
   "id": "2492f2bc-ef53-4195-bf1c-2ae2f75ea4e0",
   "metadata": {},
   "outputs": [
    {
     "name": "stdout",
     "output_type": "stream",
     "text": [
      "The 95% confidence interval for the true proportion of individuals who smoke is: (0.09151586546865079, 0.1484841345313492)\n"
     ]
    }
   ],
   "source": [
    "# Q4. A study of the prevalence of smoking in a population of 500 individuals found that 60 individuals \n",
    "# smoked. Use Python to calculate the 95% confidence interval for the true proportion of individuals in the \n",
    "# population who smoke\n",
    "\n",
    "# To calculate the 95% confidence interval for the true proportion of individuals in the population who smoke, we can use the formula for a confidence interval for a population proportion.\n",
    "\n",
    "# The formula for the confidence interval for a population proportion is:\n",
    "\n",
    "# CI = p̂ ± Z * sqrt((p̂ * (1 - p̂)) / n)\n",
    "\n",
    "# Where:\n",
    "\n",
    "# CI is the confidence interval\n",
    "# p̂ is the sample proportion\n",
    "# Z is the z-score corresponding to the desired confidence level (for a 95% confidence level, Z ≈ 1.96)\n",
    "# n is the sample size\n",
    "# In this case, the sample proportion is 60/500 = 0.12, and the sample size is 500.\n",
    "\n",
    "\n",
    "\n",
    "import math\n",
    "\n",
    "sample_proportion = 60 / 500\n",
    "sample_size = 500\n",
    "confidence_level = 0.95\n",
    "\n",
    "z = 1.96  # Z-score for a 95% confidence level\n",
    "\n",
    "margin_of_error = z * math.sqrt((sample_proportion * (1 - sample_proportion)) / sample_size)\n",
    "confidence_interval = (sample_proportion - margin_of_error, sample_proportion + margin_of_error)\n",
    "\n",
    "print(\"The 95% confidence interval for the true proportion of individuals who smoke is:\", confidence_interval)\n"
   ]
  },
  {
   "cell_type": "code",
   "execution_count": 3,
   "id": "1e089cc1-be1c-4aa4-88d4-6cb9b84c35c1",
   "metadata": {},
   "outputs": [
    {
     "name": "stdout",
     "output_type": "stream",
     "text": [
      "The 90% confidence interval is: (71.27739919800369, 78.72260080199631)\n"
     ]
    }
   ],
   "source": [
    "# Q5. Calculate the 90% confidence interval for a sample of data with a mean of 75 and a standard deviation \n",
    "# of 12 using Python. Interpret the results\n",
    "\n",
    "import scipy.stats as stats\n",
    "import math\n",
    "\n",
    "sample_mean = 75\n",
    "sample_std_dev = 12\n",
    "sample_size = 30  # Assuming a sample size of 30\n",
    "\n",
    "confidence_level = 0.90\n",
    "degrees_of_freedom = sample_size - 1\n",
    "\n",
    "# Calculate the t-score corresponding to the desired confidence level and degrees of freedom\n",
    "t_score = stats.t.ppf((1 + confidence_level) / 2, df=degrees_of_freedom)\n",
    "\n",
    "# Calculate the margin of error\n",
    "margin_of_error = t_score * (sample_std_dev / math.sqrt(sample_size))\n",
    "\n",
    "# Calculate the confidence interval\n",
    "confidence_interval = (sample_mean - margin_of_error, sample_mean + margin_of_error)\n",
    "\n",
    "print(\"The 90% confidence interval is:\", confidence_interval)\n"
   ]
  },
  {
   "cell_type": "code",
   "execution_count": 1,
   "id": "644f3d43-6c42-4f35-ab02-7e2dd6146a47",
   "metadata": {},
   "outputs": [
    {
     "data": {
      "image/png": "[encoded data removed]",
      "text/plain": [
       "<Figure size 640x480 with 1 Axes>"
      ]
     },
     "metadata": {},
     "output_type": "display_data"
    }
   ],
   "source": [
    "# Q6. Use Python to plot the chi-square distribution with 10 degrees of freedom. Label the axes and shade the \n",
    "# area corresponding to a chi-square statistic of 15.\n",
    "\n",
    "import numpy as np\n",
    "import matplotlib.pyplot as plt\n",
    "import scipy.stats as stats\n",
    "\n",
    "degrees_of_freedom = 10\n",
    "\n",
    "x = np.linspace(0, 30, 500)  # Range of chi-square values\n",
    "y = stats.chi2.pdf(x, df=degrees_of_freedom)  # Probability density function of chi-square distribution\n",
    "\n",
    "# Plot the chi-square distribution\n",
    "plt.plot(x, y)\n",
    "\n",
    "# Shade the area corresponding to a chi-square statistic of 15\n",
    "x_fill = np.linspace(15, 30, 100)  # Range of x values to fill\n",
    "y_fill = stats.chi2.pdf(x_fill, df=degrees_of_freedom)  # Probability density function for the shaded area\n",
    "plt.fill_between(x_fill, y_fill, color='grey', alpha=0.3)\n",
    "\n",
    "# Label the axes\n",
    "plt.xlabel('Chi-square value')\n",
    "plt.ylabel('Probability density')\n",
    "\n",
    "# Add a title\n",
    "plt.title('Chi-square Distribution (10 degrees of freedom)')\n",
    "\n",
    "# Show the plot\n",
    "plt.show()\n"
   ]
  },
  {
   "cell_type": "code",
   "execution_count": 2,
   "id": "b344bdd5-fb11-45f9-9740-45e7fe52c0e9",
   "metadata": {},
   "outputs": [
    {
     "name": "stdout",
     "output_type": "stream",
     "text": [
      "The 99% confidence interval for the true proportion of people who prefer Coke is: (0.47930246089012263, 0.5606975391098774)\n"
     ]
    }
   ],
   "source": [
    "# Q7. A random sample of 1000 people was asked if they preferred Coke or Pepsi. Of the sample, 520 \n",
    "# preferred Coke. Calculate a 99% confidence interval for the true proportion of people in the population who \n",
    "# prefer Coke\n",
    "\n",
    "\n",
    "import math\n",
    "\n",
    "sample_proportion = 520 / 1000\n",
    "sample_size = 1000\n",
    "confidence_level = 0.99\n",
    "\n",
    "z = 2.576  # Z-score for a 99% confidence level\n",
    "\n",
    "margin_of_error = z * math.sqrt((sample_proportion * (1 - sample_proportion)) / sample_size)\n",
    "confidence_interval = (sample_proportion - margin_of_error, sample_proportion + margin_of_error)\n",
    "\n",
    "print(\"The 99% confidence interval for the true proportion of people who prefer Coke is:\", confidence_interval)\n"
   ]
  },
  {
   "cell_type": "code",
   "execution_count": 3,
   "id": "c4e39be1-ef09-485d-91c7-9fc3f746342d",
   "metadata": {},
   "outputs": [
    {
     "name": "stdout",
     "output_type": "stream",
     "text": [
      "Chi-square statistic: 1.0\n",
      "P-value: 0.31731050786291115\n",
      "There is no evidence to reject the null hypothesis. The coin is likely fair.\n"
     ]
    }
   ],
   "source": [
    "# Q8. A researcher hypothesizes that a coin is biased towards tails. They flip the coin 100 times and observe \n",
    "# 45 tails. Conduct a chi-square goodness of fit test to determine if the observed frequencies match the \n",
    "# expected frequencies of a fair coin. Use a significance level of 0.05\n",
    "\n",
    "import numpy as np\n",
    "import scipy.stats as stats\n",
    "\n",
    "observed_frequencies = np.array([45, 55])  # Observed frequencies of tails and heads, respectively\n",
    "expected_frequencies = np.array([50, 50])  # Expected frequencies for a fair coin\n",
    "\n",
    "# Perform the chi-square goodness of fit test\n",
    "chi2_statistic, p_value = stats.chisquare(observed_frequencies, expected_frequencies)\n",
    "\n",
    "# Print the chi-square statistic and p-value\n",
    "print(\"Chi-square statistic:\", chi2_statistic)\n",
    "print(\"P-value:\", p_value)\n",
    "\n",
    "# Set the significance level\n",
    "significance_level = 0.05\n",
    "\n",
    "# Compare the p-value with the significance level\n",
    "if p_value < significance_level:\n",
    "    print(\"There is evidence to reject the null hypothesis. The coin may be biased towards tails.\")\n",
    "else:\n",
    "    print(\"There is no evidence to reject the null hypothesis. The coin is likely fair.\")\n"
   ]
  },
  {
   "cell_type": "code",
   "execution_count": 4,
   "id": "456e9fbe-403e-4630-bd89-1671c7ef7a62",
   "metadata": {},
   "outputs": [
    {
     "name": "stdout",
     "output_type": "stream",
     "text": [
      "Chi-square statistic: 5.833333333333334\n",
      "P-value: 0.05411376622282158\n",
      "Degrees of freedom: 2\n",
      "Expected frequencies:\n",
      "[[15. 20.]\n",
      " [15. 20.]\n",
      " [15. 20.]]\n",
      "There is no evidence to reject the null hypothesis. There is no significant association between smoking status and lung cancer diagnosis.\n"
     ]
    }
   ],
   "source": [
    "# Q9. A study was conducted to determine if there is an association between smoking status (smoker or \n",
    "# non-smoker) and lung cancer diagnosis (yes or no). The results are shown in the contingency table below. \n",
    "# Conduct a chi-square test for independence to determine if there is a significant association between \n",
    "# smoking status and lung cancer diagnosis.\n",
    "\n",
    "# Use a significance level of 0.05.\n",
    "# Group A\n",
    "# Outcome 1 20 15\n",
    "# Outcome 2 10 25\n",
    "# Outcome 3 15 20\n",
    "# Group B\n",
    "# Lung Cancer: Yes\n",
    "# Smoker 60 140\n",
    "# Non-smoker 30 170\n",
    "\n",
    "\n",
    "import numpy as np\n",
    "import scipy.stats as stats\n",
    "\n",
    "# Create the contingency table\n",
    "contingency_table = np.array([[20, 15], [10, 25], [15, 20]])\n",
    "\n",
    "# Perform the chi-square test for independence\n",
    "chi2_statistic, p_value, dof, expected = stats.chi2_contingency(contingency_table)\n",
    "\n",
    "# Print the chi-square statistic, p-value, degrees of freedom, and expected frequencies\n",
    "print(\"Chi-square statistic:\", chi2_statistic)\n",
    "print(\"P-value:\", p_value)\n",
    "print(\"Degrees of freedom:\", dof)\n",
    "print(\"Expected frequencies:\")\n",
    "print(expected)\n",
    "\n",
    "# Set the significance level\n",
    "significance_level = 0.05\n",
    "\n",
    "# Compare the p-value with the significance level\n",
    "if p_value < significance_level:\n",
    "    print(\"There is evidence to reject the null hypothesis. There may be a significant association between smoking status and lung cancer diagnosis.\")\n",
    "else:\n",
    "    print(\"There is no evidence to reject the null hypothesis. There is no significant association between smoking status and lung cancer diagnosis.\")\n"
   ]
  },
  {
   "cell_type": "code",
   "execution_count": 6,
   "id": "f1dded68-c68a-4513-86dd-d112c248bc78",
   "metadata": {},
   "outputs": [
    {
     "name": "stdout",
     "output_type": "stream",
     "text": [
      "Chi-square statistic: 13.393665158371041\n",
      "P-value: 0.0012348168997745918\n",
      "Degrees of freedom: 2\n",
      "Expected frequencies:\n",
      "[[212.5 162.5 125. ]\n",
      " [212.5 162.5 125. ]]\n",
      "There is evidence to reject the null hypothesis. There may be a significant association between chocolate preference and country of origin.\n"
     ]
    }
   ],
   "source": [
    "# Q10. A study was conducted to determine if the proportion of people who prefer milk chocolate, dark \n",
    "# chocolate, or white chocolate is different in the U.S. versus the U.K. A random sample of 500 people from \n",
    "# the U.S. and a random sample of 500 people from the U.K. were surveyed. The results are shown in the \n",
    "# contingency table below. Conduct a chi-square test for independence to determine if there is a significant \n",
    "# association between chocolate preference and country of origin.\n",
    "# Use a significance level of 0.01.\n",
    "\n",
    "\n",
    "\n",
    "#  repository link through your dashboard. Make sure the repository is public.\n",
    "# Milk Chocolate\n",
    "# U.S. (n=500) 200 150 150\n",
    "# U.K. (n=500) 225 175 10\n",
    "\n",
    "import numpy as np\n",
    "import scipy.stats as stats\n",
    "\n",
    "# Create the contingency table\n",
    "contingency_table = np.array([[200, 150, 150], [225, 175, 100]])\n",
    "\n",
    "# Perform the chi-square test for independence\n",
    "chi2_statistic, p_value, dof, expected = stats.chi2_contingency(contingency_table)\n",
    "\n",
    "# Print the chi-square statistic, p-value, degrees of freedom, and expected frequencies\n",
    "print(\"Chi-square statistic:\", chi2_statistic)\n",
    "print(\"P-value:\", p_value)\n",
    "print(\"Degrees of freedom:\", dof)\n",
    "print(\"Expected frequencies:\")\n",
    "print(expected)\n",
    "\n",
    "# Set the significance level\n",
    "significance_level = 0.01\n",
    "\n",
    "# Compare the p-value with the significance level\n",
    "if p_value < significance_level:\n",
    "    print(\"There is evidence to reject the null hypothesis. There may be a significant association between chocolate preference and country of origin.\")\n",
    "else:\n",
    "    print(\"There is no evidence to reject the null hypothesis. There is no significant association between chocolate preference and country of origin.\")\n"
   ]
  },
  {
   "cell_type": "code",
   "execution_count": 7,
   "id": "ba3baa46-b6c5-43ec-a2fd-a9b43b4e78a1",
   "metadata": {},
   "outputs": [
    {
     "name": "stdout",
     "output_type": "stream",
     "text": [
      "Chi-square statistic: 13.393665158371041\n",
      "P-value: 0.0012348168997745918\n",
      "Degrees of freedom: 2\n",
      "Expected frequencies:\n",
      "[[212.5 162.5 125. ]\n",
      " [212.5 162.5 125. ]]\n",
      "There is evidence to reject the null hypothesis. There may be a significant association between chocolate preference and country of origin.\n"
     ]
    }
   ],
   "source": [
    "# Q11. A random sample of 30 people was selected from a population with an unknown mean and standard \n",
    "# deviation. The sample mean was found to be 72 and the sample standard deviation was found to be 10. \n",
    "# Conduct a hypothesis test to determine if the population mean is significantly different from 70. Use a \n",
    "# significance level of 0.05\n",
    "\n",
    "import numpy as np\n",
    "import scipy.stats as stats\n",
    "\n",
    "# Create the contingency table\n",
    "contingency_table = np.array([[200, 150, 150], [225, 175, 100]])\n",
    "\n",
    "# Perform the chi-square test for independence\n",
    "chi2_statistic, p_value, dof, expected = stats.chi2_contingency(contingency_table)\n",
    "\n",
    "# Print the chi-square statistic, p-value, degrees of freedom, and expected frequencies\n",
    "print(\"Chi-square statistic:\", chi2_statistic)\n",
    "print(\"P-value:\", p_value)\n",
    "print(\"Degrees of freedom:\", dof)\n",
    "print(\"Expected frequencies:\")\n",
    "print(expected)\n",
    "\n",
    "# Set the significance level\n",
    "significance_level = 0.01\n",
    "\n",
    "# Compare the p-value with the significance level\n",
    "if p_value < significance_level:\n",
    "    print(\"There is evidence to reject the null hypothesis. There may be a significant association between chocolate preference and country of origin.\")\n",
    "else:\n",
    "    print(\"There is no evidence to reject the null hypothesis. There is no significant association between chocolate preference and country of origin.\")\n"
   ]
  },
  {
   "cell_type": "code",
   "execution_count": null,
   "id": "6dc3a50f-a325-4ef7-a009-df6ed3ba2e65",
   "metadata": {},
   "outputs": [],
   "source": []
  }
 ],
 "metadata": {
  "kernelspec": {
   "display_name": "Python 3 (ipykernel)",
   "language": "python",
   "name": "python3"
  },
  "language_info": {
   "codemirror_mode": {
    "name": "ipython",
    "version": 3
   },
   "file_extension": ".py",
   "mimetype": "text/x-python",
   "name": "python",
   "nbconvert_exporter": "python",
   "pygments_lexer": "ipython3",
   "version": "3.10.8"
  }
 },
 "nbformat": 4,
 "nbformat_minor": 5
}
